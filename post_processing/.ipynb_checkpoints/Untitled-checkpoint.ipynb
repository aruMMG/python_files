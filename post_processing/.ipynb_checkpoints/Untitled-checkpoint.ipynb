{
 "cells": [
  {
   "cell_type": "code",
   "execution_count": 1,
   "id": "d48821aa",
   "metadata": {},
   "outputs": [],
   "source": [
    "import matplotlib.pyplot as plt\n",
    "import numpy as np\n",
    "import cv2\n",
    "import skimage.measure as measure\n",
    "import glob\n",
    "import os"
   ]
  },
  {
   "cell_type": "code",
   "execution_count": 2,
   "id": "562cdf4e",
   "metadata": {},
   "outputs": [],
   "source": [
    "def txt2labelarray(txtFile):\n",
    "    true_boxes = []\n",
    "\n",
    "    with open(txtFile) as f:\n",
    "        for cnt, line in enumerate(f):\n",
    "            c,x,y,w,h = map(float, line.split())\n",
    "            x = x*1024\n",
    "            y = y*1024\n",
    "            w = w*1024\n",
    "            h = h*1024\n",
    "            x1 = x - w/2\n",
    "            x2 = x + w/2\n",
    "            y1 = y - h/2\n",
    "            y2 = y + h/2\n",
    "            lis_for_each_sample = []\n",
    "            lis_for_each_sample.append(0)\n",
    "            lis_for_each_sample.append(x1)\n",
    "            lis_for_each_sample.append(y1)\n",
    "            lis_for_each_sample.append(x2)\n",
    "            lis_for_each_sample.append(y2)\n",
    "            \n",
    "            true_boxes.append(lis_for_each_sample)\n",
    "        labels = np.asarray(true_boxes)\n",
    "    return labels"
   ]
  },
  {
   "cell_type": "code",
   "execution_count": 3,
   "id": "33a0f131",
   "metadata": {},
   "outputs": [],
   "source": [
    "\n",
    "def entropy_split(image, labels):\n",
    "    entropys = []\n",
    "    for idx in range(labels.shape[0]):\n",
    "        label = labels[idx]\n",
    "        image_crop = image[int(label[2]):int(label[4]), int(label[1]):int(label[3]),:]\n",
    "        # cv2.imwrite(str(exp_time)+\".png\", image_crop)\n",
    "        entropy = measure.shannon_entropy(image_crop)\n",
    "        entropys.append(entropy)\n",
    "\n",
    "    return entropys"
   ]
  },
  {
   "cell_type": "code",
   "execution_count": 36,
   "id": "a4cd6c3c",
   "metadata": {},
   "outputs": [
    {
     "data": {
      "text/plain": [
       "array([[  0.      , 460.000256, 415.999488, 492.000256, 598.999552]])"
      ]
     },
     "execution_count": 36,
     "metadata": {},
     "output_type": "execute_result"
    }
   ],
   "source": [
    "# Plot for each image length\n",
    "label_path = \"/home/aru/phd/objective2/paper_review/images/55/500.txt\"\n",
    "label = txt2labelarray(label_path)\n",
    "label"
   ]
  },
  {
   "cell_type": "code",
   "execution_count": 10,
   "id": "1571e0cd",
   "metadata": {},
   "outputs": [],
   "source": [
    "power_list = [100, 500, 1000, 5000, 10000, 50000, 100000]\n",
    "entropy_list = []\n",
    "for img_path in glob.glob(\"/home/aru/phd/objective2/paper_review/images/55/*.png\"):\n",
    "    img = cv2.imread(img_path)\n",
    "    img_name = os.path.basename(img_path).split(\".\")[0]\n",
    "    entropy = entropy_split(img, label)\n",
    "    entropy_list.append([int(img_name), entropy[0]])"
   ]
  },
  {
   "cell_type": "code",
   "execution_count": 11,
   "id": "b0ee7d8f",
   "metadata": {},
   "outputs": [],
   "source": [
    "entropy_arr = np.array(entropy_list)"
   ]
  },
  {
   "cell_type": "code",
   "execution_count": 14,
   "id": "8e230bab",
   "metadata": {},
   "outputs": [
    {
     "data": {
      "text/plain": [
       "array([[1.00000000e+03, 6.92244219e+00],\n",
       "       [1.00000000e+05, 3.44897476e-01],\n",
       "       [5.00000000e+02, 7.21513563e+00],\n",
       "       [1.00000000e+02, 7.11118774e+00],\n",
       "       [1.00000000e+04, 4.66506530e+00],\n",
       "       [5.00000000e+04, 2.15109837e+00],\n",
       "       [5.00000000e+03, 5.52028345e+00]])"
      ]
     },
     "execution_count": 14,
     "metadata": {},
     "output_type": "execute_result"
    }
   ],
   "source": [
    "entropy_arr"
   ]
  },
  {
   "cell_type": "code",
   "execution_count": 18,
   "id": "61941111",
   "metadata": {},
   "outputs": [],
   "source": [
    "sorted_arr = np.sort(entropy_arr, axis=0)"
   ]
  },
  {
   "cell_type": "code",
   "execution_count": 19,
   "id": "bd121539",
   "metadata": {},
   "outputs": [
    {
     "data": {
      "text/plain": [
       "(7, 2)"
      ]
     },
     "execution_count": 19,
     "metadata": {},
     "output_type": "execute_result"
    }
   ],
   "source": [
    "sorted_arr.shape"
   ]
  },
  {
   "cell_type": "code",
   "execution_count": 22,
   "id": "4edbd416",
   "metadata": {},
   "outputs": [
    {
     "data": {
      "text/plain": [
       "array([[1.00000000e+02, 3.44897476e-01],\n",
       "       [5.00000000e+02, 2.15109837e+00],\n",
       "       [1.00000000e+03, 4.66506530e+00],\n",
       "       [5.00000000e+03, 5.52028345e+00],\n",
       "       [1.00000000e+04, 6.92244219e+00],\n",
       "       [5.00000000e+04, 7.11118774e+00],\n",
       "       [1.00000000e+05, 7.21513563e+00]])"
      ]
     },
     "execution_count": 22,
     "metadata": {},
     "output_type": "execute_result"
    }
   ],
   "source": [
    "sorted_arr"
   ]
  },
  {
   "cell_type": "code",
   "execution_count": 20,
   "id": "48f7e381",
   "metadata": {},
   "outputs": [
    {
     "data": {
      "text/plain": [
       "array([   100.,    500.,   1000.,   5000.,  10000.,  50000., 100000.])"
      ]
     },
     "execution_count": 20,
     "metadata": {},
     "output_type": "execute_result"
    }
   ],
   "source": [
    "sorted_arr[:,0]"
   ]
  },
  {
   "cell_type": "code",
   "execution_count": 21,
   "id": "92e70ba9",
   "metadata": {},
   "outputs": [
    {
     "data": {
      "text/plain": [
       "[<matplotlib.lines.Line2D at 0x7fbe44258fd0>]"
      ]
     },
     "execution_count": 21,
     "metadata": {},
     "output_type": "execute_result"
    },
    {
     "data": {
      "image/png": "[encoded data removed]",
      "text/plain": [
       "<Figure size 640x480 with 1 Axes>"
      ]
     },
     "metadata": {},
     "output_type": "display_data"
    }
   ],
   "source": [
    "plt.plot(np.log2(sorted_arr[:,0]), sorted_arr[:,1])"
   ]
  },
  {
   "cell_type": "code",
   "execution_count": 31,
   "id": "9666cc7f",
   "metadata": {},
   "outputs": [],
   "source": [
    "power_list = [100, 500, 1000, 5000, 10000, 50000, 100000]\n",
    "entropy_list = []\n",
    "for img_path in glob.glob(\"/home/aru/phd/objective2/paper_review/images/straight/15/*.png\"):\n",
    "    img = cv2.imread(img_path)\n",
    "    img_name = os.path.basename(img_path).split(\".\")[0]\n",
    "    entropy = entropy_split(img, label)\n",
    "    entropy_list.append([int(img_name), entropy[0]])"
   ]
  },
  {
   "cell_type": "code",
   "execution_count": 32,
   "id": "c0ccd72b",
   "metadata": {},
   "outputs": [],
   "source": [
    "entropy_arr15 = np.array(entropy_list)"
   ]
  },
  {
   "cell_type": "code",
   "execution_count": 33,
   "id": "8a4ae64f",
   "metadata": {},
   "outputs": [
    {
     "data": {
      "text/plain": [
       "array([[1.00000000e+02, 3.05074261e-01],\n",
       "       [5.00000000e+02, 2.08020341e+00],\n",
       "       [1.00000000e+03, 4.64797628e+00],\n",
       "       [5.00000000e+03, 5.54682048e+00],\n",
       "       [1.00000000e+04, 6.94229091e+00],\n",
       "       [5.00000000e+04, 7.10409264e+00],\n",
       "       [1.00000000e+05, 7.19938461e+00]])"
      ]
     },
     "execution_count": 33,
     "metadata": {},
     "output_type": "execute_result"
    }
   ],
   "source": [
    "sorted_arr15 = np.sort(entropy_arr15, axis=0)\n",
    "sorted_arr15"
   ]
  },
  {
   "cell_type": "code",
   "execution_count": 34,
   "id": "56f63ca5",
   "metadata": {},
   "outputs": [
    {
     "data": {
      "text/plain": [
       "[<matplotlib.lines.Line2D at 0x7fbe41368820>]"
      ]
     },
     "execution_count": 34,
     "metadata": {},
     "output_type": "execute_result"
    },
    {
     "data": {
      "image/png": "[encoded data removed]",
      "text/plain": [
       "<Figure size 640x480 with 1 Axes>"
      ]
     },
     "metadata": {},
     "output_type": "display_data"
    }
   ],
   "source": [
    "plt.plot(np.log2(sorted_arr15[:,0]), sorted_arr15[:,1])"
   ]
  },
  {
   "cell_type": "code",
   "execution_count": 35,
   "id": "259a4ac3",
   "metadata": {},
   "outputs": [
    {
     "data": {
      "text/plain": [
       "[<matplotlib.lines.Line2D at 0x7fbe413566a0>]"
      ]
     },
     "execution_count": 35,
     "metadata": {},
     "output_type": "execute_result"
    },
    {
     "data": {
      "image/png": "[encoded data removed]",
      "text/plain": [
       "<Figure size 640x480 with 1 Axes>"
      ]
     },
     "metadata": {},
     "output_type": "display_data"
    }
   ],
   "source": [
    "entropy_list = []\n",
    "for img_path in glob.glob(\"/home/aru/phd/objective2/paper_review/images/straight/15/*.png\"):\n",
    "    img = cv2.imread(img_path)\n",
    "    img_name = os.path.basename(img_path).split(\".\")[0]\n",
    "    entropy = entropy_split(img, label)\n",
    "    entropy_list.append([int(img_name), entropy[0]])\n",
    "entropy_arr47 = np.array(entropy_list)\n",
    "sorted_arr47 = np.sort(entropy_arr47, axis=0)\n",
    "sorted_arr47\n",
    "plt.plot(np.log2(sorted_arr47[:,0]), sorted_arr47[:,1])"
   ]
  },
  {
   "cell_type": "code",
   "execution_count": 40,
   "id": "81a10a19",
   "metadata": {},
   "outputs": [
    {
     "data": {
      "text/plain": [
       "array([[1.        , 0.59174999],\n",
       "       [2.        , 0.61485776],\n",
       "       [3.        , 0.62625011],\n",
       "       [4.        , 1.44852739],\n",
       "       [5.        , 1.61796735]])"
      ]
     },
     "execution_count": 40,
     "metadata": {},
     "output_type": "execute_result"
    },
    {
     "data": {
      "image/png": "[encoded data removed]",
      "text/plain": [
       "<Figure size 640x480 with 1 Axes>"
      ]
     },
     "metadata": {},
     "output_type": "display_data"
    }
   ],
   "source": [
    "entropy_list = []\n",
    "names = [\"30m\", \"300m\", \"3b\", \"30b\", \"300b\"]\n",
    "for img_path in glob.glob(\"/home/aru/phd/objective2/paper_review/images/straight/15/pbrt/*.png\"):\n",
    "    img = cv2.imread(img_path)\n",
    "    img_name = os.path.basename(img_path).split(\".\")[0]\n",
    "    entropy = entropy_split(img, label)\n",
    "    idx = names.index(img_name)\n",
    "    entropy_list.append([idx+1, entropy[0]])\n",
    "entropy_arr15 = np.array(entropy_list)\n",
    "sorted_arr15 = np.sort(entropy_arr15, axis=0)\n",
    "\n",
    "plt.plot(sorted_arr15[:,0], sorted_arr15[:,1])\n",
    "sorted_arr15"
   ]
  },
  {
   "cell_type": "code",
   "execution_count": null,
   "id": "7bb25fb7",
   "metadata": {},
   "outputs": [],
   "source": []
  }
 ],
 "metadata": {
  "kernelspec": {
   "display_name": "CNN",
   "language": "python",
   "name": "cnn"
  },
  "language_info": {
   "codemirror_mode": {
    "name": "ipython",
    "version": 3
   },
   "file_extension": ".py",
   "mimetype": "text/x-python",
   "name": "python",
   "nbconvert_exporter": "python",
   "pygments_lexer": "ipython3",
   "version": "3.9.12"
  }
 },
 "nbformat": 4,
 "nbformat_minor": 5
}
