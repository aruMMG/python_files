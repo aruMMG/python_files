{
 "cells": [
  {
   "cell_type": "code",
   "execution_count": 2,
   "metadata": {},
   "outputs": [],
   "source": [
    "import matplotlib.pyplot as plt\n",
    "import numpy as np\n",
    "import cv2\n",
    "import skimage.measure as measure\n",
    "import glob\n",
    "import os"
   ]
  },
  {
   "cell_type": "code",
   "execution_count": 24,
   "metadata": {},
   "outputs": [],
   "source": [
    "def txt2labelarray(txtFile):\n",
    "    true_boxes = []\n",
    "\n",
    "    with open(txtFile) as f:\n",
    "        for cnt, line in enumerate(f):\n",
    "            c,x,y,w,h = map(float, line.split())\n",
    "            x = x*1024\n",
    "            y = y*1024\n",
    "            w = w*1024\n",
    "            h = h*1024\n",
    "            x1 = x - w/2\n",
    "            x2 = x + w/2\n",
    "            y1 = y - h/2\n",
    "            y2 = y + h/2\n",
    "            lis_for_each_sample = []\n",
    "            lis_for_each_sample.append(0)\n",
    "            lis_for_each_sample.append(x1)\n",
    "            lis_for_each_sample.append(y1)\n",
    "            lis_for_each_sample.append(x2)\n",
    "            lis_for_each_sample.append(y2)\n",
    "            \n",
    "            true_boxes.append(lis_for_each_sample)\n",
    "        labels = np.asarray(true_boxes)\n",
    "    return labels"
   ]
  },
  {
   "cell_type": "code",
   "execution_count": 25,
   "metadata": {},
   "outputs": [],
   "source": [
    "def entropy_image(image, exp_time, labels=False, whole_img=True):\n",
    "    entropys = [exp_time]\n",
    "    if whole_img:\n",
    "        entropy = measure.shannon_entropy(image)\n",
    "        entropys.append(entropy)\n",
    "    if labels.shape:\n",
    "        for idx in range(labels.shape[0]):\n",
    "            label = labels[idx]\n",
    "            image_crop = image[int(label[2]):int(label[4]), int(label[1]):int(label[3]),:]\n",
    "            # cv2.imwrite(str(exp_time)+\".png\", image_crop)\n",
    "            entropy = measure.shannon_entropy(image_crop)\n",
    "            entropys.append(entropy)\n",
    "    \n",
    "    return entropys"
   ]
  },
  {
   "cell_type": "code",
   "execution_count": 5,
   "metadata": {},
   "outputs": [],
   "source": [
    "\n",
    "def entropy_split(image, labels):\n",
    "    entropys = []\n",
    "    for idx in range(labels.shape[0]):\n",
    "        label = labels[idx]\n",
    "        image_crop = image[int(label[2]):int(label[4]), int(label[1]):int(label[3]),:]\n",
    "        # cv2.imwrite(str(exp_time)+\".png\", image_crop)\n",
    "        entropy = measure.shannon_entropy(image_crop)\n",
    "        entropys.append(entropy)\n",
    "\n",
    "    return entropys"
   ]
  },
  {
   "cell_type": "code",
   "execution_count": 6,
   "metadata": {},
   "outputs": [],
   "source": [
    "def entropy_images(image, exp_time, labels=False):\n",
    "    entropy = measure.shannon_entropy(image)\n",
    "\n",
    "    return entropy"
   ]
  },
  {
   "cell_type": "code",
   "execution_count": null,
   "metadata": {},
   "outputs": [],
   "source": []
  },
  {
   "cell_type": "code",
   "execution_count": null,
   "metadata": {},
   "outputs": [],
   "source": []
  },
  {
   "cell_type": "code",
   "execution_count": 43,
   "metadata": {},
   "outputs": [],
   "source": [
    "exp_time_list = [15, 30, 60, 125, 250, 500, 1000, 2000, 4000]\n",
    "entropy_list = [exp_time_list]\n",
    "\n",
    "image_path1 = \"/home/sakuni/phd/objective2/dataset/single_exp/\"\n",
    "image_path2 = \"/1024/split/images/img62.jpg\""
   ]
  },
  {
   "cell_type": "code",
   "execution_count": 44,
   "metadata": {},
   "outputs": [],
   "source": [
    "image_path2 = \"/1024/split/images/\"\n",
    "image_path2_rotate = \"/1024/split_rotate/images/\""
   ]
  },
  {
   "cell_type": "code",
   "execution_count": 45,
   "metadata": {},
   "outputs": [],
   "source": [
    "entropy_list2 = [exp_time_list]\n",
    "label_paths = \"/home/sakuni/phd/results/all_labels\"\n",
    "for label_path in glob.glob(\"/home/sakuni/phd/results/all_labels/*.txt\"):\n",
    "    label_name = os.path.basename(label_path)\n",
    "    name_only = label_name.split(\".\")[0]\n",
    "    image_name = label_name.split(\".\")[0]+\".jpg\"\n",
    "#     label_path = os.path.join(label_paths, label_name)\n",
    "    labels = txt2labelarray(label_path)\n",
    "\n",
    "    entropys_per_image = [name_only]\n",
    "    entropys_per_image2 = [name_only]\n",
    "    for exp_time in exp_time_list:\n",
    "        image_path = image_path1 + str(exp_time) + image_path2 + image_name\n",
    "        if not os.path.exists(image_path):\n",
    "            image_path = image_path1 + str(exp_time) + image_path2_rotate + image_name   \n",
    "        image = cv2.imread(image_path)\n",
    "        entropys = entropy_split(image,labels=labels)\n",
    "        if len(entropys)>1:\n",
    "            entropys_per_image2.append(entropys[1]) \n",
    "        entropys_per_image.append(entropys[0])\n",
    "    entropy_list.append(entropys_per_image)\n",
    "    if len(entropys_per_image2)>1:\n",
    "        entropy_list2.append(entropys_per_image2)\n",
    "# add image name and idx number can be taken as array and array2"
   ]
  },
  {
   "cell_type": "code",
   "execution_count": 69,
   "metadata": {},
   "outputs": [
    {
     "data": {
      "text/plain": [
       "121"
      ]
     },
     "execution_count": 69,
     "metadata": {},
     "output_type": "execute_result"
    }
   ],
   "source": [
    "len(entropy_list)"
   ]
  },
  {
   "cell_type": "code",
   "execution_count": 70,
   "metadata": {},
   "outputs": [
    {
     "data": {
      "text/plain": [
       "25"
      ]
     },
     "execution_count": 70,
     "metadata": {},
     "output_type": "execute_result"
    }
   ],
   "source": [
    "len(entropy_list2)"
   ]
  },
  {
   "cell_type": "code",
   "execution_count": 48,
   "metadata": {},
   "outputs": [
    {
     "name": "stdout",
     "output_type": "stream",
     "text": [
      "['img71_rotate', 7.120413024875342, 6.984934638069702, 6.4187870412346735, 5.641898034420644, 4.837852876868566, 4.013845013860939, 3.2049214708712936, 2.523760231493427, 1.799492833260347]\n"
     ]
    }
   ],
   "source": [
    "for l in entropy_list:\n",
    "    if l[0]==\"img71_rotate\":\n",
    "        print(l)"
   ]
  },
  {
   "cell_type": "code",
   "execution_count": 71,
   "metadata": {},
   "outputs": [
    {
     "data": {
      "text/plain": [
       "[15, 30, 60, 125, 250, 500, 1000, 2000, 4000]"
      ]
     },
     "execution_count": 71,
     "metadata": {},
     "output_type": "execute_result"
    }
   ],
   "source": [
    "entropy_list[0]"
   ]
  },
  {
   "cell_type": "code",
   "execution_count": 72,
   "metadata": {},
   "outputs": [],
   "source": [
    "name_seq = [x[0] for x in entropy_list[1:]]"
   ]
  },
  {
   "cell_type": "code",
   "execution_count": 73,
   "metadata": {},
   "outputs": [],
   "source": [
    "name_seq2 = [x[0] for x in entropy_list2[1:]]"
   ]
  },
  {
   "cell_type": "code",
   "execution_count": 75,
   "metadata": {},
   "outputs": [],
   "source": [
    "for idx,x in enumerate(entropy_list[1:]):\n",
    "    assert name_seq[idx]==x[0], \"fail\""
   ]
  },
  {
   "cell_type": "code",
   "execution_count": 76,
   "metadata": {},
   "outputs": [],
   "source": [
    "for idx,x in enumerate(entropy_list2[1:]):\n",
    "    assert name_seq2[idx]==x[0], \"fail at {} is {}\".format(name_seq2[idx+1],x[0])"
   ]
  },
  {
   "cell_type": "code",
   "execution_count": 121,
   "metadata": {},
   "outputs": [
    {
     "data": {
      "text/plain": [
       "'img75_rotate'"
      ]
     },
     "execution_count": 121,
     "metadata": {},
     "output_type": "execute_result"
    }
   ],
   "source": [
    "name_seq[1]"
   ]
  },
  {
   "cell_type": "code",
   "execution_count": 81,
   "metadata": {},
   "outputs": [],
   "source": [
    "entropy_list_for_arr = [x[1:] for x in entropy_list[1:]]\n",
    "entropy_list_for_arr2 = [x[1:] for x in entropy_list2[1:]]"
   ]
  },
  {
   "cell_type": "code",
   "execution_count": 82,
   "metadata": {},
   "outputs": [],
   "source": [
    "entropys_arr = np.array(entropy_list_for_arr)\n",
    "entropys_arr2 = np.array(entropy_list_for_arr2)"
   ]
  },
  {
   "cell_type": "code",
   "execution_count": 83,
   "metadata": {},
   "outputs": [
    {
     "data": {
      "text/plain": [
       "array([7.09640268, 6.95695742, 6.38599351, 5.58843985, 4.7635653 ,\n",
       "       3.97048438, 3.24403031, 2.48273997, 1.8578717 ])"
      ]
     },
     "execution_count": 83,
     "metadata": {},
     "output_type": "execute_result"
    }
   ],
   "source": [
    "entropys_arr[1]"
   ]
  },
  {
   "cell_type": "code",
   "execution_count": 84,
   "metadata": {},
   "outputs": [
    {
     "data": {
      "text/plain": [
       "array([4.02656485, 5.51842506, 6.48661804, 7.18550378, 7.50037698,\n",
       "       7.31486484, 6.86012386, 6.2624742 , 5.53217519])"
      ]
     },
     "execution_count": 84,
     "metadata": {},
     "output_type": "execute_result"
    }
   ],
   "source": [
    "entropys_arr2[1,:]"
   ]
  },
  {
   "cell_type": "code",
   "execution_count": 85,
   "metadata": {},
   "outputs": [],
   "source": [
    "entropys_arr_all = np.vstack((entropys_arr, entropys_arr2))"
   ]
  },
  {
   "cell_type": "code",
   "execution_count": 86,
   "metadata": {},
   "outputs": [
    {
     "data": {
      "text/plain": [
       "(144, 9)"
      ]
     },
     "execution_count": 86,
     "metadata": {},
     "output_type": "execute_result"
    }
   ],
   "source": [
    "entropys_arr_all.shape"
   ]
  },
  {
   "cell_type": "code",
   "execution_count": 87,
   "metadata": {},
   "outputs": [],
   "source": [
    "# entropys_arr_all = np.delete(entropys_arr_all, 127, 0)"
   ]
  },
  {
   "cell_type": "code",
   "execution_count": 88,
   "metadata": {},
   "outputs": [
    {
     "data": {
      "text/plain": [
       "(144, 9)"
      ]
     },
     "execution_count": 88,
     "metadata": {},
     "output_type": "execute_result"
    }
   ],
   "source": [
    "entropys_arr_all.shape"
   ]
  },
  {
   "cell_type": "code",
   "execution_count": 89,
   "metadata": {},
   "outputs": [
    {
     "data": {
      "text/plain": [
       "array([4.96235253, 6.55618086, 7.33929867, 7.50803992, 7.22447201,\n",
       "       6.70166923, 5.97766527, 5.27023716, 4.56826154])"
      ]
     },
     "execution_count": 89,
     "metadata": {},
     "output_type": "execute_result"
    }
   ],
   "source": [
    "entropys_arr_all[127,:]"
   ]
  },
  {
   "cell_type": "code",
   "execution_count": 91,
   "metadata": {},
   "outputs": [],
   "source": [
    "import pandas as pd\n",
    "from sklearn.cluster import KMeans"
   ]
  },
  {
   "cell_type": "code",
   "execution_count": 92,
   "metadata": {},
   "outputs": [],
   "source": [
    "# entropys_arr_all = np.delete(entropys_arr_all, 0, 0)"
   ]
  },
  {
   "cell_type": "code",
   "execution_count": 103,
   "metadata": {},
   "outputs": [
    {
     "data": {
      "text/plain": [
       "[15, 30, 60, 125, 250, 500, 1000, 2000, 4000]"
      ]
     },
     "execution_count": 103,
     "metadata": {},
     "output_type": "execute_result"
    }
   ],
   "source": [
    "entropy_list[0]"
   ]
  },
  {
   "cell_type": "code",
   "execution_count": 102,
   "metadata": {},
   "outputs": [
    {
     "data": {
      "text/plain": [
       "array([5.64871233, 6.37086977, 6.90982128, 7.30243357, 7.26598685,\n",
       "       6.82212971, 6.18050421, 5.42788046, 4.60792345])"
      ]
     },
     "execution_count": 102,
     "metadata": {},
     "output_type": "execute_result"
    }
   ],
   "source": [
    "entropys_arr_all[0,:]"
   ]
  },
  {
   "cell_type": "code",
   "execution_count": 93,
   "metadata": {},
   "outputs": [
    {
     "data": {
      "text/plain": [
       "(144, 9)"
      ]
     },
     "execution_count": 93,
     "metadata": {},
     "output_type": "execute_result"
    }
   ],
   "source": [
    "entropys_arr_all.shape"
   ]
  },
  {
   "cell_type": "code",
   "execution_count": 94,
   "metadata": {},
   "outputs": [],
   "source": [
    "kmeans = KMeans(n_clusters=2, random_state=0).fit(entropys_arr_all)"
   ]
  },
  {
   "cell_type": "code",
   "execution_count": 95,
   "metadata": {},
   "outputs": [
    {
     "data": {
      "text/plain": [
       "array([[2.62006566, 4.27652179, 5.75539792, 6.89700053, 7.41875407,\n",
       "        7.35938125, 6.94678884, 6.35061914, 5.66529106],\n",
       "       [6.5819061 , 6.83679075, 6.57837394, 5.9902298 , 5.25933927,\n",
       "        4.51065502, 3.77728422, 3.05096748, 2.34650549]])"
      ]
     },
     "execution_count": 95,
     "metadata": {},
     "output_type": "execute_result"
    }
   ],
   "source": [
    "kmeans.cluster_centers_"
   ]
  },
  {
   "cell_type": "code",
   "execution_count": 96,
   "metadata": {},
   "outputs": [
    {
     "data": {
      "text/plain": [
       "array([0, 1, 1, 0, 1, 1, 1, 1, 0, 0, 1, 1, 1, 1, 1, 0, 1, 0, 1, 1, 1, 1,\n",
       "       1, 1, 1, 0, 1, 1, 1, 0, 0, 1, 1, 0, 0, 1, 1, 1, 1, 1, 1, 1, 0, 0,\n",
       "       0, 1, 1, 0, 0, 0, 0, 1, 1, 1, 0, 0, 0, 1, 1, 1, 1, 0, 1, 1, 1, 1,\n",
       "       1, 1, 0, 1, 1, 0, 0, 0, 0, 0, 0, 1, 0, 0, 1, 1, 1, 0, 0, 1, 0, 1,\n",
       "       1, 1, 1, 0, 1, 1, 1, 1, 0, 0, 1, 1, 1, 1, 1, 0, 1, 0, 0, 0, 1, 1,\n",
       "       1, 1, 1, 0, 1, 1, 0, 1, 0, 1, 0, 0, 0, 0, 0, 0, 1, 0, 0, 0, 0, 0,\n",
       "       0, 1, 0, 0, 0, 0, 0, 1, 0, 0, 0, 0], dtype=int32)"
      ]
     },
     "execution_count": 96,
     "metadata": {},
     "output_type": "execute_result"
    }
   ],
   "source": [
    "kmeans.labels_"
   ]
  },
  {
   "cell_type": "code",
   "execution_count": 97,
   "metadata": {},
   "outputs": [],
   "source": [
    "label_arr_all = kmeans.labels_"
   ]
  },
  {
   "cell_type": "code",
   "execution_count": 116,
   "metadata": {},
   "outputs": [],
   "source": [
    "name_seq_arr_all = np.array(name_seq + name_seq2)"
   ]
  },
  {
   "cell_type": "code",
   "execution_count": 117,
   "metadata": {},
   "outputs": [
    {
     "data": {
      "text/plain": [
       "(144,)"
      ]
     },
     "execution_count": 117,
     "metadata": {},
     "output_type": "execute_result"
    }
   ],
   "source": [
    "name_seq_arr_all.shape"
   ]
  },
  {
   "cell_type": "code",
   "execution_count": 120,
   "metadata": {},
   "outputs": [
    {
     "data": {
      "text/plain": [
       "'img67'"
      ]
     },
     "execution_count": 120,
     "metadata": {},
     "output_type": "execute_result"
    }
   ],
   "source": [
    "name_seq_arr_all[121]"
   ]
  },
  {
   "cell_type": "code",
   "execution_count": 122,
   "metadata": {},
   "outputs": [
    {
     "data": {
      "text/plain": [
       "(144,)"
      ]
     },
     "execution_count": 122,
     "metadata": {},
     "output_type": "execute_result"
    }
   ],
   "source": [
    "label_arr_all.shape"
   ]
  },
  {
   "cell_type": "code",
   "execution_count": 132,
   "metadata": {},
   "outputs": [],
   "source": [
    "arr = np.vstack((name_seq_arr_all, label_arr_all)).T"
   ]
  },
  {
   "cell_type": "code",
   "execution_count": 133,
   "metadata": {},
   "outputs": [
    {
     "data": {
      "text/plain": [
       "(144, 2)"
      ]
     },
     "execution_count": 133,
     "metadata": {},
     "output_type": "execute_result"
    }
   ],
   "source": [
    "arr.shape"
   ]
  },
  {
   "cell_type": "raw",
   "metadata": {},
   "source": [
    "arr"
   ]
  },
  {
   "cell_type": "raw",
   "metadata": {},
   "source": []
  },
  {
   "cell_type": "code",
   "execution_count": 134,
   "metadata": {},
   "outputs": [
    {
     "data": {
      "text/plain": [
       "array(['0', '1', '1', '0', '1', '1', '1', '1', '0', '0', '1', '1', '1',\n",
       "       '1', '1', '0', '1', '0', '1', '1', '1', '1', '1', '1', '1', '0',\n",
       "       '1', '1', '1', '0', '0', '1', '1', '0', '0', '1', '1', '1', '1',\n",
       "       '1', '1', '1', '0', '0', '0', '1', '1', '0', '0', '0', '0', '1',\n",
       "       '1', '1', '0', '0', '0', '1', '1', '1', '1', '0', '1', '1', '1',\n",
       "       '1', '1', '1', '0', '1', '1', '0', '0', '0', '0', '0', '0', '1',\n",
       "       '0', '0', '1', '1', '1', '0', '0', '1', '0', '1', '1', '1', '1',\n",
       "       '0', '1', '1', '1', '1', '0', '0', '1', '1', '1', '1', '1', '0',\n",
       "       '1', '0', '0', '0', '1', '1', '1', '1', '1', '0', '1', '1', '0',\n",
       "       '1', '0', '1', '0', '0', '0', '0', '0', '0', '1', '0', '0', '0',\n",
       "       '0', '0', '0', '1', '0', '0', '0', '0', '0', '1', '0', '0', '0',\n",
       "       '0'], dtype='<U13')"
      ]
     },
     "execution_count": 134,
     "metadata": {},
     "output_type": "execute_result"
    }
   ],
   "source": [
    "arr[:,1]"
   ]
  },
  {
   "cell_type": "code",
   "execution_count": 137,
   "metadata": {},
   "outputs": [],
   "source": [
    "lis=[]\n",
    "for idx in range(arr.shape[0]):\n",
    "    if idx<120:\n",
    "        lis.append(0)\n",
    "    else:\n",
    "        lis.append(1)\n",
    "defect_num_arr = np.array(lis)"
   ]
  },
  {
   "cell_type": "code",
   "execution_count": 138,
   "metadata": {},
   "outputs": [
    {
     "data": {
      "text/plain": [
       "array([0, 0, 0, 0, 0, 0, 0, 0, 0, 0, 0, 0, 0, 0, 0, 0, 0, 0, 0, 0, 0, 0,\n",
       "       0, 0, 0, 0, 0, 0, 0, 0, 0, 0, 0, 0, 0, 0, 0, 0, 0, 0, 0, 0, 0, 0,\n",
       "       0, 0, 0, 0, 0, 0, 0, 0, 0, 0, 0, 0, 0, 0, 0, 0, 0, 0, 0, 0, 0, 0,\n",
       "       0, 0, 0, 0, 0, 0, 0, 0, 0, 0, 0, 0, 0, 0, 0, 0, 0, 0, 0, 0, 0, 0,\n",
       "       0, 0, 0, 0, 0, 0, 0, 0, 0, 0, 0, 0, 0, 0, 0, 0, 0, 0, 0, 0, 0, 0,\n",
       "       0, 0, 0, 0, 0, 0, 0, 0, 0, 0, 1, 1, 1, 1, 1, 1, 1, 1, 1, 1, 1, 1,\n",
       "       1, 1, 1, 1, 1, 1, 1, 1, 1, 1, 1, 1])"
      ]
     },
     "execution_count": 138,
     "metadata": {},
     "output_type": "execute_result"
    }
   ],
   "source": [
    "defect_num_arr"
   ]
  },
  {
   "cell_type": "code",
   "execution_count": 139,
   "metadata": {},
   "outputs": [
    {
     "data": {
      "text/plain": [
       "(144,)"
      ]
     },
     "execution_count": 139,
     "metadata": {},
     "output_type": "execute_result"
    }
   ],
   "source": [
    "defect_num_arr.shape"
   ]
  },
  {
   "cell_type": "code",
   "execution_count": 141,
   "metadata": {},
   "outputs": [],
   "source": [
    "arr_for_csv = np.vstack((arr.T, defect_num_arr)).T"
   ]
  },
  {
   "cell_type": "code",
   "execution_count": 142,
   "metadata": {},
   "outputs": [
    {
     "data": {
      "text/plain": [
       "array([['img23', '0', '0'],\n",
       "       ['img75_rotate', '1', '0'],\n",
       "       ['img43', '1', '0'],\n",
       "       ['img49', '0', '0'],\n",
       "       ['img61', '1', '0'],\n",
       "       ['img2', '1', '0'],\n",
       "       ['img67', '1', '0'],\n",
       "       ['img45', '1', '0'],\n",
       "       ['img46', '0', '0'],\n",
       "       ['img102', '0', '0'],\n",
       "       ['img96', '1', '0'],\n",
       "       ['img4', '1', '0'],\n",
       "       ['img41', '1', '0'],\n",
       "       ['img81_rotate', '1', '0'],\n",
       "       ['img105', '1', '0'],\n",
       "       ['img54', '0', '0'],\n",
       "       ['img65_rotate', '1', '0'],\n",
       "       ['img100', '0', '0'],\n",
       "       ['img112_rotate', '1', '0'],\n",
       "       ['img85_rotate', '1', '0'],\n",
       "       ['img14', '1', '0'],\n",
       "       ['img16', '1', '0'],\n",
       "       ['img83', '1', '0'],\n",
       "       ['img12', '1', '0'],\n",
       "       ['img35', '1', '0'],\n",
       "       ['img13', '0', '0'],\n",
       "       ['img6', '1', '0'],\n",
       "       ['img19', '1', '0'],\n",
       "       ['img69_rotate', '1', '0'],\n",
       "       ['img51', '0', '0'],\n",
       "       ['img20', '0', '0'],\n",
       "       ['img84', '1', '0'],\n",
       "       ['img30', '1', '0'],\n",
       "       ['img7', '0', '0'],\n",
       "       ['img85', '0', '0'],\n",
       "       ['img27', '1', '0'],\n",
       "       ['img29', '1', '0'],\n",
       "       ['img101', '1', '0'],\n",
       "       ['img109', '1', '0'],\n",
       "       ['img48', '1', '0'],\n",
       "       ['img67_rotate', '1', '0'],\n",
       "       ['img17', '1', '0'],\n",
       "       ['img33', '0', '0'],\n",
       "       ['img73', '0', '0'],\n",
       "       ['img52', '0', '0'],\n",
       "       ['img126_rotate', '1', '0'],\n",
       "       ['img31', '1', '0'],\n",
       "       ['img56', '0', '0'],\n",
       "       ['img26', '0', '0'],\n",
       "       ['img25', '0', '0'],\n",
       "       ['img9', '0', '0'],\n",
       "       ['img104', '1', '0'],\n",
       "       ['img71', '1', '0'],\n",
       "       ['img82', '1', '0'],\n",
       "       ['img47', '0', '0'],\n",
       "       ['img126', '0', '0'],\n",
       "       ['img74', '0', '0'],\n",
       "       ['img39', '1', '0'],\n",
       "       ['img95', '1', '0'],\n",
       "       ['img69', '1', '0'],\n",
       "       ['img99', '1', '0'],\n",
       "       ['img8', '0', '0'],\n",
       "       ['img79_rotate', '1', '0'],\n",
       "       ['img15', '1', '0'],\n",
       "       ['img28', '1', '0'],\n",
       "       ['img93', '1', '0'],\n",
       "       ['img76', '1', '0'],\n",
       "       ['img91', '1', '0'],\n",
       "       ['img42', '0', '0'],\n",
       "       ['img57', '1', '0'],\n",
       "       ['img76_rotate', '1', '0'],\n",
       "       ['img110', '0', '0'],\n",
       "       ['img87', '0', '0'],\n",
       "       ['img3', '0', '0'],\n",
       "       ['img5', '0', '0'],\n",
       "       ['img66', '0', '0'],\n",
       "       ['img103', '0', '0'],\n",
       "       ['img55', '1', '0'],\n",
       "       ['img113', '0', '0'],\n",
       "       ['img112', '0', '0'],\n",
       "       ['img106', '1', '0'],\n",
       "       ['img92', '1', '0'],\n",
       "       ['img73_rotate', '1', '0'],\n",
       "       ['img62', '0', '0'],\n",
       "       ['img64_rotate', '0', '0'],\n",
       "       ['img87_rotate', '1', '0'],\n",
       "       ['img107', '0', '0'],\n",
       "       ['img50', '1', '0'],\n",
       "       ['img108', '1', '0'],\n",
       "       ['img53', '1', '0'],\n",
       "       ['img108_rotate', '1', '0'],\n",
       "       ['img65', '0', '0'],\n",
       "       ['img105_rotate', '1', '0'],\n",
       "       ['img32', '1', '0'],\n",
       "       ['img94', '1', '0'],\n",
       "       ['img10', '1', '0'],\n",
       "       ['img97', '0', '0'],\n",
       "       ['img24', '0', '0'],\n",
       "       ['img81', '1', '0'],\n",
       "       ['img72_rotate', '1', '0'],\n",
       "       ['img79', '1', '0'],\n",
       "       ['img75', '1', '0'],\n",
       "       ['img111', '1', '0'],\n",
       "       ['img18', '0', '0'],\n",
       "       ['img72', '1', '0'],\n",
       "       ['img1', '0', '0'],\n",
       "       ['img11', '0', '0'],\n",
       "       ['img34', '0', '0'],\n",
       "       ['img38', '1', '0'],\n",
       "       ['img90', '1', '0'],\n",
       "       ['img36', '1', '0'],\n",
       "       ['img21', '1', '0'],\n",
       "       ['img62_rotate', '1', '0'],\n",
       "       ['img44', '0', '0'],\n",
       "       ['img71_rotate', '1', '0'],\n",
       "       ['img64', '1', '0'],\n",
       "       ['img60', '0', '0'],\n",
       "       ['img66_rotate', '1', '0'],\n",
       "       ['img98', '0', '0'],\n",
       "       ['img74_rotate', '1', '0'],\n",
       "       ['img75_rotate', '0', '1'],\n",
       "       ['img67', '0', '1'],\n",
       "       ['img81_rotate', '0', '1'],\n",
       "       ['img105', '0', '1'],\n",
       "       ['img69_rotate', '0', '1'],\n",
       "       ['img67_rotate', '0', '1'],\n",
       "       ['img73', '1', '1'],\n",
       "       ['img71', '0', '1'],\n",
       "       ['img69', '0', '1'],\n",
       "       ['img79_rotate', '0', '1'],\n",
       "       ['img76', '0', '1'],\n",
       "       ['img76_rotate', '0', '1'],\n",
       "       ['img73_rotate', '0', '1'],\n",
       "       ['img62', '1', '1'],\n",
       "       ['img108', '0', '1'],\n",
       "       ['img108_rotate', '0', '1'],\n",
       "       ['img105_rotate', '0', '1'],\n",
       "       ['img81', '0', '1'],\n",
       "       ['img72_rotate', '0', '1'],\n",
       "       ['img79', '1', '1'],\n",
       "       ['img75', '0', '1'],\n",
       "       ['img72', '0', '1'],\n",
       "       ['img62_rotate', '0', '1'],\n",
       "       ['img71_rotate', '0', '1']], dtype='<U21')"
      ]
     },
     "execution_count": 142,
     "metadata": {},
     "output_type": "execute_result"
    }
   ],
   "source": [
    "arr_for_csv"
   ]
  },
  {
   "cell_type": "code",
   "execution_count": 144,
   "metadata": {},
   "outputs": [],
   "source": [
    "lis_to_savee = arr_for_csv.tolist()"
   ]
  },
  {
   "cell_type": "code",
   "execution_count": 146,
   "metadata": {},
   "outputs": [
    {
     "data": {
      "text/plain": [
       "[['img23', '0', '0'], ['img75_rotate', '1', '0']]"
      ]
     },
     "execution_count": 146,
     "metadata": {},
     "output_type": "execute_result"
    }
   ],
   "source": [
    "lis_to_savee[0:2]"
   ]
  },
  {
   "cell_type": "code",
   "execution_count": 147,
   "metadata": {},
   "outputs": [],
   "source": [
    "import csv\n",
    "with open(\"img_entropy_divide.csv\", \"w\") as f:\n",
    "    wr = csv.writer(f)\n",
    "    wr.writerows(lis_to_savee)"
   ]
  },
  {
   "cell_type": "code",
   "execution_count": 98,
   "metadata": {},
   "outputs": [
    {
     "data": {
      "text/plain": [
       "array([0, 1, 1, 0, 1, 1, 1, 1, 0, 0, 1, 1, 1, 1, 1, 0, 1, 0, 1, 1, 1, 1,\n",
       "       1, 1, 1, 0, 1, 1, 1, 0, 0, 1, 1, 0, 0, 1, 1, 1, 1, 1, 1, 1, 0, 0,\n",
       "       0, 1, 1, 0, 0, 0, 0, 1, 1, 1, 0, 0, 0, 1, 1, 1, 1, 0, 1, 1, 1, 1,\n",
       "       1, 1, 0, 1, 1, 0, 0, 0, 0, 0, 0, 1, 0, 0, 1, 1, 1, 0, 0, 1, 0, 1,\n",
       "       1, 1, 1, 0, 1, 1, 1, 1, 0, 0, 1, 1, 1, 1, 1, 0, 1, 0, 0, 0, 1, 1,\n",
       "       1, 1, 1, 0, 1, 1, 0, 1, 0, 1, 0, 0, 0, 0, 0, 0, 1, 0, 0, 0, 0, 0,\n",
       "       0, 1, 0, 0, 0, 0, 0, 1, 0, 0, 0, 0], dtype=int32)"
      ]
     },
     "execution_count": 98,
     "metadata": {},
     "output_type": "execute_result"
    }
   ],
   "source": [
    "label_arr_all"
   ]
  },
  {
   "cell_type": "code",
   "execution_count": 104,
   "metadata": {},
   "outputs": [
    {
     "data": {
      "image/png": "[encoded data removed]",
      "text/plain": [
       "<Figure size 432x288 with 1 Axes>"
      ]
     },
     "metadata": {
      "needs_background": "light"
     },
     "output_type": "display_data"
    }
   ],
   "source": [
    "\n",
    "fig,ax = plt.subplots()\n",
    "for idx in range(entropys_arr_all.shape[0]):\n",
    "    if label_arr_all[idx]==0:\n",
    "        c = \"g\"\n",
    "    else:\n",
    "        c = \"b\"\n",
    "    ax.plot(np.log2(np.array(entropy_list[0])/15), entropys_arr_all[idx,:], c)\n",
    "plt.xlabel(\"Exposure Time (Sec)\", size=14)\n",
    "plt.ylabel(\"Entropy\", size=14)\n",
    "ax.set_xticklabels([\"0\", \"1/15\", \"1/30\", \"1/60\", \"1/125\", \"1/250\", \"1/500\", \"1/1000\", \"1/2000\", \"1/4000\"])\n",
    "\n",
    "fig.savefig(\"entropys_imgs_labels_clustered.png\")"
   ]
  },
  {
   "cell_type": "code",
   "execution_count": 22,
   "metadata": {},
   "outputs": [
    {
     "data": {
      "text/plain": [
       "7.379228248685957"
      ]
     },
     "execution_count": 22,
     "metadata": {},
     "output_type": "execute_result"
    }
   ],
   "source": [
    "# Entropy for removed background\n",
    "import numpy as np\n",
    "import cv2\n",
    "img = cv2.imread(\"/home/sakuni/phd/python/lc3/rm_bg/img38_15.png\", cv2.IMREAD_GRAYSCALE)\n",
    "marg, bins = np.histogramdd(np.ravel(img), bins = 256)\n",
    "assert bins[0][0]==0.0, \"first bin not zero pixel value\"\n",
    "marg = marg[1:]/(img.size - marg[0])\n",
    "\n",
    "marg = list(filter(lambda p: p > 0, np.ravel(marg)))\n",
    "entropy = -np.sum(np.multiply(marg, np.log2(marg)))\n",
    "entropy"
   ]
  },
  {
   "cell_type": "code",
   "execution_count": 5,
   "metadata": {},
   "outputs": [
    {
     "data": {
      "text/plain": [
       "2.931915083315548"
      ]
     },
     "execution_count": 5,
     "metadata": {},
     "output_type": "execute_result"
    }
   ],
   "source": [
    "import skimage.measure as measure\n",
    "img = cv2.imread(\"/home/sakuni/phd/python/lc3/rm_bg/img38_15.png\", cv2.IMREAD_GRAYSCALE)\n",
    "entropy = measure.shannon_entropy(img)\n",
    "entropy"
   ]
  },
  {
   "cell_type": "code",
   "execution_count": 7,
   "metadata": {},
   "outputs": [
    {
     "data": {
      "text/plain": [
       "list"
      ]
     },
     "execution_count": 7,
     "metadata": {},
     "output_type": "execute_result"
    }
   ],
   "source": [
    "type(marg)"
   ]
  },
  {
   "cell_type": "code",
   "execution_count": null,
   "metadata": {},
   "outputs": [],
   "source": []
  },
  {
   "cell_type": "code",
   "execution_count": 28,
   "metadata": {},
   "outputs": [],
   "source": [
    "entropy_list_single = []\n",
    "exp_time_list = [15, 30, 60, 125, 250, 500, 1000, 2000, 4000]\n",
    "image_path1 = \"/home/sakuni/phd/objective2/dataset/single_exp/\"\n",
    "image_path2 = \"/1024/split/images/img38.jpg\"\n",
    "label_path = \"/home/sakuni/phd/results/all_labels/img38.txt\"\n",
    "labels = txt2labelarray(label_path)\n",
    "for exp_time in exp_time_list:\n",
    "    image_path = image_path1 + str(exp_time) + image_path2\n",
    "    image = cv2.imread(image_path)\n",
    "    entropys = entropy_image(image, exp_time, labels=labels)\n",
    "    entropy_list_single.append(entropys)\n",
    "\n"
   ]
  },
  {
   "cell_type": "code",
   "execution_count": 29,
   "metadata": {},
   "outputs": [],
   "source": [
    "entropy_arr = np.array(entropy_list_single)"
   ]
  },
  {
   "cell_type": "code",
   "execution_count": 30,
   "metadata": {},
   "outputs": [
    {
     "data": {
      "text/plain": [
       "array([[1.50000000e+01, 7.30243095e+00, 5.81360829e+00],\n",
       "       [3.00000000e+01, 6.70006256e+00, 6.95274165e+00],\n",
       "       [6.00000000e+01, 5.91073574e+00, 7.35540206e+00],\n",
       "       [1.25000000e+02, 4.97961532e+00, 7.18289768e+00],\n",
       "       [2.50000000e+02, 4.12190122e+00, 6.70042354e+00],\n",
       "       [5.00000000e+02, 3.23284239e+00, 5.99864756e+00],\n",
       "       [1.00000000e+03, 2.29349965e+00, 5.23161059e+00],\n",
       "       [2.00000000e+03, 1.78529250e+00, 4.44617367e+00],\n",
       "       [4.00000000e+03, 1.47727177e+00, 3.77025660e+00]])"
      ]
     },
     "execution_count": 30,
     "metadata": {},
     "output_type": "execute_result"
    }
   ],
   "source": [
    "entropy_arr"
   ]
  },
  {
   "cell_type": "code",
   "execution_count": 91,
   "metadata": {},
   "outputs": [],
   "source": [
    "def plot_entropys(entropy_arr):\n",
    "    fig,ax = plt.subplots()\n",
    "    color_list = [\"r\", \"g\", \"b\"]\n",
    "    labels = [\"Full Image\", \"Split in Bright Spot\", \"Split Outside Bright Spot\"]\n",
    "    for idx in range(entropy_arr.shape[1]-1):\n",
    "        ax.plot(np.log2(entropy_arr[:,0]/15), entropy_arr[:,idx+1], color_list[idx], label=labels[idx])\n",
    "    plt.xlabel(\"Exposure Time (Sec)\", size=14)\n",
    "    plt.ylabel(\"Entropy\", size=14)\n",
    "    ax.set_xticklabels([\"0\", \"1/15\", \"1/30\", \"1/60\", \"1/125\", \"1/250\", \"1/500\", \"1/1000\", \"1/2000\", \"1/4000\"])\n",
    "    ax.legend()\n",
    "    fig.savefig(\"entropys_img.png\")"
   ]
  },
  {
   "cell_type": "code",
   "execution_count": 92,
   "metadata": {},
   "outputs": [
    {
     "name": "stderr",
     "output_type": "stream",
     "text": [
      "/tmp/ipykernel_25431/111650766.py:9: UserWarning: FixedFormatter should only be used together with FixedLocator\n",
      "  ax.set_xticklabels([\"0\", \"1/15\", \"1/30\", \"1/60\", \"1/125\", \"1/250\", \"1/500\", \"1/1000\", \"1/2000\", \"1/4000\"])\n"
     ]
    },
    {
     "data": {
      "image/png": "[encoded data removed]",
      "text/plain": [
       "<Figure size 640x480 with 1 Axes>"
      ]
     },
     "metadata": {},
     "output_type": "display_data"
    }
   ],
   "source": [
    "plot_entropys(entropy_arr)"
   ]
  },
  {
   "cell_type": "code",
   "execution_count": 108,
   "metadata": {},
   "outputs": [],
   "source": [
    "def plot_entropys_rows(entropy_arr, entropy_arr2=False):\n",
    "    fig,ax = plt.subplots()\n",
    "    for idx in range(entropy_arr.shape[0]-1):\n",
    "        ax.plot(np.log2(entropy_arr[0,:]/15), entropy_arr[idx+1, :], \"r\")\n",
    "    \n",
    "    plt.xlabel(\"Exposure Time (Sec)\", size=14)\n",
    "    plt.ylabel(\"Entropy\", size=14)\n",
    "    ax.set_xticklabels([\"0\", \"1/15\", \"1/30\", \"1/60\", \"1/125\", \"1/250\", \"1/500\", \"1/1000\", \"1/2000\", \"1/4000\"])       \n",
    "#     fig.savefig(\"entropys_imgs_labels.png\")\n",
    "    plt.show()"
   ]
  },
  {
   "cell_type": "code",
   "execution_count": null,
   "metadata": {},
   "outputs": [
    {
     "name": "stdout",
     "output_type": "stream",
     "text": [
      "[[15, 30, 60, 125, 250, 500, 1000, 2000, 4000]]\n"
     ]
    }
   ],
   "source": [
    "image_path2 = \"/1024/split/images/\"\n",
    "entropy_list_full_image = [exp_time_list]\n",
    "print(entropy_list_full_image)\n",
    "for image_path in glob.glob(\"/home/aru/phd/objective2/dataset/single_exp/60/1024/split/images/*.jpg\"):\n",
    "    image_name = os.path.basename(image_path)\n",
    "    entropys_per_exp = []\n",
    "    for exp_time in exp_time_list:\n",
    "        image_path = image_path1 + str(exp_time) + image_path2 + image_name\n",
    "        image = cv2.imread(image_path)\n",
    "        entropys = entropy_images(image, exp_time)\n",
    "        entropys_per_exp.append(entropys)\n",
    "    entropy_list_full_image.append(entropys_per_exp)\n",
    "\n",
    "entropys_arr_full_image = np.array(entropy_list_full_image)\n"
   ]
  },
  {
   "cell_type": "code",
   "execution_count": null,
   "metadata": {},
   "outputs": [],
   "source": [
    "plot_entropys_rows(entropys_arr_full_image)"
   ]
  },
  {
   "cell_type": "code",
   "execution_count": null,
   "metadata": {},
   "outputs": [],
   "source": []
  }
 ],
 "metadata": {
  "kernelspec": {
   "display_name": "CNN",
   "language": "python",
   "name": "cnn"
  },
  "language_info": {
   "codemirror_mode": {
    "name": "ipython",
    "version": 3
   },
   "file_extension": ".py",
   "mimetype": "text/x-python",
   "name": "python",
   "nbconvert_exporter": "python",
   "pygments_lexer": "ipython3",
   "version": "3.8.10"
  }
 },
 "nbformat": 4,
 "nbformat_minor": 2
}
